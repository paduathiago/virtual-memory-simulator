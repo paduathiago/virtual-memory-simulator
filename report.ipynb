{
 "cells": [
  {
   "attachments": {},
   "cell_type": "markdown",
   "metadata": {},
   "source": [
    "# Relatório\n",
    "\n",
    "#### Thiago Pádua de Carvalho - 2020007066"
   ]
  },
  {
   "attachments": {},
   "cell_type": "markdown",
   "metadata": {},
   "source": [
    "## Estruturas de Dados"
   ]
  },
  {
   "attachments": {},
   "cell_type": "markdown",
   "metadata": {},
   "source": [
    "### Página\n",
    "Essa é a estrutura de dados que simboliza uma página de memória. Ela é representada através da struct PageTableEntry, contendo os seguintes campos:\n",
    "- **PageNumber**: número identificador da página, simbolizando o endereço.\n",
    "- **ReferenceBit**: bit de referência, que é setado para 1 quando a página é referenciada. Uso no algoritmo de Segunda Chance.\n",
    "- **dirtyBit**: bit de sujeira, que é setado para 1 quando há leitura no endereço referenciado pela página.\n",
    "\n",
    "### Tabela de Páginas\n",
    "A principal estrutura de dados do programa é a Tabela de Páginas. Ela foi criada como uma struct PageTable, contendo os seguintes campos:\n",
    "- **Entries**: vetor que contém as páginas. É sobre ele que são feitas todas as operações de inserção e substituição.\n",
    "- **Size**: tamanho corrente da tabela de páginas.\n",
    "- **Capacity**: capacidade máxima da tabela de páginas. \n",
    "\n",
    "Além das funções básicas de criação da tabela, insersão de páginas, verificação de capacidade atingida, temos as seguintes:\n",
    "- **MemoryPosition**: função que retorna a posição de memória de uma página, dado seu número. Caso a página não esteja na tabela, retorna -1.\n",
    "- **ReplacePage**: função que substitui uma página da tabela por outra. Ela recebe como parâmetro o número da página a ser substituída, o número e o modo (W/R) que determinam se o endereço será utilizado para leitura ou escrita.\n",
    "- **ReplaceRandom**: função que substitui uma página aleatória da tabela por outra.\n",
    "\n",
    "### Fila\n",
    "A fila encadeada é a estrutura fundamental para o funcionamento do algoritmo FIFO. Ela controla a ordem de inserção e remoção de páginas da tabela de páginas. Sua implementação é a struct Queue, contendo os seguintes campos:\n",
    " - **Head**: ponteiro para o nó que é o primeiro elemento da fila.\n",
    " - **Tail**: ponteiro para o último elemento da fila.\n",
    " - **Size** e **Capacity**.\n",
    "Suas funções são clássicas de inserção ao fim da fila, remoção do início da fila, verificação de fila cheia e busca de elemento a partir de um valor dado, que é o identificador de página.\n",
    "\n",
    "#### Node \n",
    "A fila é composta por nós, que são representados pela struct Node, contendo prev, next e value, que são, respectivamente, ponteiros para o nó anterior, próximo o valor do nó, que é o número de página (identificador).\n",
    "\n",
    "### Pilha Duplamente Encadeada\n",
    "A abordagem escolhida para o algoritmo LRU foi com o uso da pilha. o duplo encadeamento permite remover uma página e inseri-la no topo da pilha com a alteração de, no máximo, seis ponteiros. Isso é fundamental porque é necessário que seja possível remover um elemento de qualquer posição da pilha. A implementação é através da struct DoublyLinkedStack, contendo os seguintes campos:\n",
    " - **Top** e **Bottom**, similares a head e tail da fila, sendo que cada um representa um Node, como o descrito anteriormente. Aqui também temos os campos **Size** e **Capacity**."
   ]
  },
  {
   "attachments": {},
   "cell_type": "markdown",
   "metadata": {},
   "source": [
    "## Algoritmos de Substituição - Memória Virtual"
   ]
  },
  {
   "attachments": {},
   "cell_type": "markdown",
   "metadata": {},
   "source": [
    "### FIFO (First In First Out)\n",
    "O primeiro algoritmos analisado "
   ]
  },
  {
   "cell_type": "markdown",
   "metadata": {},
   "source": []
  }
 ],
 "metadata": {
  "language_info": {
   "name": "python"
  },
  "orig_nbformat": 4
 },
 "nbformat": 4,
 "nbformat_minor": 2
}
