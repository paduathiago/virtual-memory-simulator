{
 "cells": [
  {
   "attachments": {},
   "cell_type": "markdown",
   "metadata": {},
   "source": [
    "# Relatório\n",
    "\n",
    "#### Thiago Pádua de Carvalho - 2020007066"
   ]
  },
  {
   "attachments": {},
   "cell_type": "markdown",
   "metadata": {},
   "source": [
    "## Estruturas de Dados"
   ]
  },
  {
   "attachments": {},
   "cell_type": "markdown",
   "metadata": {},
   "source": [
    "### Página\n",
    "A página é a estrutura de dados que representa uma página de memória. Ela foi criada como uma struct PageTableEntry, contendo os seguintes campos:\n",
    "- **PageNumber**: número da página.\n",
    "\n",
    "### Tabela de Páginas\n",
    "A principal estrutura de dados do programa é a Tabela de Páginas. Ela foi criada como uma struct PageTable, contendo os seguintes campos:\n",
    "- **Entries**: vetor que contém as páginas. É sobre ele que são feitas todas as operações de inserção e substituição.\n",
    "- **Size**: tamanho corrente da tabela de páginas.\n",
    "- **Capacity**: capacidade máxima da tabela de páginas."
   ]
  },
  {
   "attachments": {},
   "cell_type": "markdown",
   "metadata": {},
   "source": [
    "## Algoritmos de Substituição - Memória Virtual"
   ]
  },
  {
   "attachments": {},
   "cell_type": "markdown",
   "metadata": {},
   "source": [
    "### FIFO (First In First Out)\n",
    "O primeiro algoritmos analisado "
   ]
  },
  {
   "cell_type": "markdown",
   "metadata": {},
   "source": []
  }
 ],
 "metadata": {
  "language_info": {
   "name": "python"
  },
  "orig_nbformat": 4
 },
 "nbformat": 4,
 "nbformat_minor": 2
}
