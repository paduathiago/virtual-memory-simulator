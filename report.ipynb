{
 "cells": [
  {
   "attachments": {},
   "cell_type": "markdown",
   "metadata": {},
   "source": [
    "# Relatório\n",
    "\n",
    "#### Thiago Pádua de Carvalho - 2020007066"
   ]
  },
  {
   "attachments": {},
   "cell_type": "markdown",
   "metadata": {},
   "source": [
    "## Estruturas de Dados"
   ]
  },
  {
   "attachments": {},
   "cell_type": "markdown",
   "metadata": {},
   "source": [
    "### Página\n",
    "Essa é a estrutura de dados que simboliza uma página de memória. Ela é representada através da struct PageTableEntry, contendo os seguintes campos:\n",
    "- **PageNumber**: número identificador da página, simbolizando o endereço.\n",
    "- **ReferenceBit**: bit de referência, que é setado para 1 quando a página é referenciada. Uso no algoritmo de Segunda Chance.\n",
    "- **dirtyBit**: bit de sujeira, que é setado para 1 quando há leitura no endereço referenciado pela página.\n",
    "\n",
    "### Tabela de Páginas\n",
    "A principal estrutura de dados do programa é a Tabela de Páginas. Ela foi criada como uma struct PageTable, contendo os seguintes campos:\n",
    "- **Entries**: vetor que contém as páginas. É sobre ele que são feitas todas as operações de inserção e substituição.\n",
    "- **Size**: tamanho corrente da tabela de páginas.\n",
    "- **Capacity**: capacidade máxima da tabela de páginas. \n",
    "\n",
    "Além das funções básicas de criação da tabela, insersão de páginas, verificação de capacidade atingida, temos as seguintes:\n",
    "- **MemoryPosition**: função que retorna a posição de memória de uma página, dado seu número. Caso a página não esteja na tabela, retorna -1.\n",
    "- **ReplacePage**: função que substitui uma página da tabela por outra. Ela recebe como parâmetro o número da página a ser substituída, o número e o modo (W/R) que determinam se o endereço será utilizado para leitura ou escrita.\n",
    "- **ReplaceRandom**: função que substitui uma página aleatória da tabela por outra.\n",
    "\n",
    "### Fila\n",
    "A fila encadeada é a estrutura fundamental para o funcionamento do algoritmo FIFO. Ela controla a ordem de inserção e remoção de páginas da tabela de páginas. Sua implementação é a struct Queue, contendo os seguintes campos:\n",
    " - **Head**: ponteiro para o nó que é o primeiro elemento da fila.\n",
    " - **Tail**: ponteiro para o último elemento da fila.\n",
    " - **Size** e **Capacity**.\n",
    "Suas funções são clássicas de inserção ao fim da fila, remoção do início da fila, verificação de fila cheia e busca de elemento a partir de um valor dado, que é o identificador de página.\n",
    "\n",
    "#### Node \n",
    "A fila é composta por nós, que são representados pela struct Node, contendo prev, next e value, que são, respectivamente, ponteiros para o nó anterior, próximo o valor do nó, que é o número de página (identificador).\n",
    "\n",
    "### Pilha Duplamente Encadeada\n",
    "A abordagem escolhida para o algoritmo LRU foi com o uso da pilha. O duplo encadeamento permite remover uma página e inseri-la no topo da pilha com a alteração de, no máximo, seis ponteiros. Isso é fundamental porque é necessário que seja possível remover um elemento de qualquer posição da pilha. A implementação é através da struct DoublyLinkedStack, contendo os seguintes campos:\n",
    "\n",
    "**Top** e **Bottom**, similares a head e tail da fila, sendo que cada um representa um Node, como o descrito anteriormente. Aqui também temos os campos **Size** e **Capacity**.\n",
    "\n",
    "Suas funções principais são:\n",
    "- **Push**: insere um elemento no topo da pilha.\n",
    "- **PopBottom**: remove o elemento da base da pilha, que será a página menos recentemente utilizada.\n",
    "- **PopFromData**: remove um elemento da pilha a partir de um valor dado, que é o identificador da página. Essa função é utilizada para remover uma página da pilha quando ela é referenciada, pois ela deve ser inserida no topo da pilha. Seu funcionamento é a base para a escolha dessa estrutura."
   ]
  },
  {
   "attachments": {},
   "cell_type": "markdown",
   "metadata": {},
   "source": [
    "## Algoritmos de Substituição - Memória Virtual"
   ]
  },
  {
   "attachments": {},
   "cell_type": "markdown",
   "metadata": {},
   "source": [
    "### Passos em Comum\n",
    "Todos os algoritmos devem manter controle sobre o número de page faults e o número de escritas na memória. Esses valores são incrementados, respectivamente, sempre que uma página é inserida na tabela de páginas ou quando o bit de sujeira de uma página substituida por outra - ou seja, que cede seu lugar na memória e é armazenada em disco - é setado para 1.\n",
    "\n",
    "Além disso, eles mantêm um loop while que lê do arquivo de entrada os endereços de memória que serão referenciados, tais como os modos (leitura/escrita). \n",
    "\n",
    "Os algoritmos de substituição de páginas são implementados através de funções que recebem como parâmetro a tabela de páginas e o número da página que será referenciada. O primeiro passo é verificar se a página já está na tabela de páginas. Caso esteja, o bit de referência é setado para 1 e o bit de sujeira é setado para 1 caso o modo seja W. Caso a página não esteja na tabela, é feita a verificação de capacidade. Se a tabela estiver cheia, é feita a substituição de uma página. Caso contrário, a página é inserida na tabela.\n",
    "\n",
    "### FIFO (First In First Out)\n",
    "O algoritmo FIFO baseia-se na ideia de que a página mais antiga na memória deve ser a escolhida para substituição sempre que esta for necessária. Nesse sentido, o uso de uma fila encadeada é ideal para a implementação:\n",
    "\n",
    "Iniciamos uma pilha vazia com exatamente o tamanho da memória e inserimos até que esta fique cheia. \n",
    "\n",
    "Toda vez que uma página nova chega, devemos verificar se a mesma já se encontra na memória. Em caso positivo, basta verificar se o modo de acesso ao endereço é escrita. Caso seja, devemos setar o \"bit de sujeira para 1\". Caso contrário, incementamos o número de page faults e passamos para a segunda parte do algoritmo:\n",
    "\n",
    "Se a memória estiver cheia, devemos remover a página que está no início da fila, que é a mais antiga, e inserir a nova página no fim da fila. Caso a memória não esteja cheia, basta inserir a nova página no fim da fila.\n",
    "\n",
    "### LRU (Least Recently Used)\n",
    "A princípio do LRU é usar o passado recente como uma aproximação para o futuro próximo para então substituir a página que não foi usada pelo período de tempo mais longo. Ele é o algoritmo ótimo de substituição de páginas olhando para trás no tempo.\n",
    "\n",
    "O modo escolhido para manter o rastreamento do tempo de cada página foi a partir de uma pilha duplamente encadeada. A cada referência a uma página, ela é inserida no topo da pilha. É aqui que essa estrura de dados tem seu destaque. Inserir no topo é O(1) e, como explicado anteriormente, ela permite remover um elemento de qualquer posição da pilha e inserí-lo no topo eficientemente.\n",
    "\n",
    "Ao se deparar com uma nova página, o algoritmo se comporta de maneira similar ao FIFO, verificando se a página já está na memória. Caso esteja, ele a envia para o topo da pilha.\n",
    "Caso contrário, se a memória estiver cheia removemos a página que está na base da pilha, que é a menos recentemente utilizada, e inseririmos a nova página no topo da pilha, completando a substituição.\n",
    "\n"
   ]
  },
  {
   "attachments": {},
   "cell_type": "markdown",
   "metadata": {},
   "source": [
    "## Decisões de Projeto"
   ]
  },
  {
   "attachments": {},
   "cell_type": "markdown",
   "metadata": {},
   "source": [
    "## Análise de Desempenho"
   ]
  }
 ],
 "metadata": {
  "language_info": {
   "name": "python"
  },
  "orig_nbformat": 4
 },
 "nbformat": 4,
 "nbformat_minor": 2
}
